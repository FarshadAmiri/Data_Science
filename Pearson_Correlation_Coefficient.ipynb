{
  "nbformat": 4,
  "nbformat_minor": 0,
  "metadata": {
    "colab": {
      "name": "Pearson_Correlation_Coefficient.ipynb",
      "provenance": [],
      "collapsed_sections": []
    },
    "kernelspec": {
      "name": "python3",
      "display_name": "Python 3"
    },
    "language_info": {
      "name": "python"
    }
  },
  "cells": [
    {
      "cell_type": "code",
      "metadata": {
        "id": "GF6m-yWdOnPx"
      },
      "source": [
        "import numpy as np\n",
        "import matplotlib.pyplot as plt"
      ],
      "execution_count": null,
      "outputs": []
    },
    {
      "cell_type": "code",
      "metadata": {
        "id": "GZMLohFXPzd2"
      },
      "source": [
        "def pearson(X,Y):\n",
        "  return np.dot(X - X.mean(),Y - Y.mean()) / (len(X) * X.std() * Y.std())"
      ],
      "execution_count": null,
      "outputs": []
    },
    {
      "cell_type": "code",
      "metadata": {
        "colab": {
          "base_uri": "https://localhost:8080/",
          "height": 284
        },
        "id": "9rutAXJOPeVu",
        "outputId": "ae3de95b-650c-41dd-ef80-2f3e00bb2dec"
      },
      "source": [
        "# X = np.array([1,2,4,5,7,9,11])\n",
        "# Y = np.array([3,5,7,8,11,13,14])\n",
        "\n",
        "X = np.arange(1,101,1)\n",
        "Y = np.arange(1,101,1) * 0.1\n",
        "\n",
        "plt.plot(X,Y)\n",
        "\n",
        "print('Pearson Correlation Coeffiecient is', pearson(X,Y))"
      ],
      "execution_count": null,
      "outputs": [
        {
          "output_type": "stream",
          "text": [
            "Pearson Correlation Coeffiecient is 0.9999999999999998\n"
          ],
          "name": "stdout"
        },
        {
          "output_type": "display_data",
          "data": {
            "image/png": "[encoded data removed]",
            "text/plain": [
              "<Figure size 432x288 with 1 Axes>"
            ]
          },
          "metadata": {
            "tags": [],
            "needs_background": "light"
          }
        }
      ]
    },
    {
      "cell_type": "code",
      "metadata": {
        "id": "KcChJmbjSORg"
      },
      "source": [
        ""
      ],
      "execution_count": null,
      "outputs": []
    }
  ]
}